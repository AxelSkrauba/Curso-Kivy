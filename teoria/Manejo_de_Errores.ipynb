{
  "nbformat": 4,
  "nbformat_minor": 0,
  "metadata": {
    "colab": {
      "provenance": [],
      "collapsed_sections": [
        "t8lgREILkyGS",
        "_2CnpzGf6x7b",
        "1k1b7QLf8plS",
        "EoD2TnA9BvwB",
        "1xEr2mb5A2jg",
        "zSZh59mwGlSm",
        "HpHPWJmvStcO"
      ]
    },
    "kernelspec": {
      "name": "python3",
      "display_name": "Python 3"
    },
    "language_info": {
      "name": "python"
    }
  },
  "cells": [
    {
      "cell_type": "markdown",
      "source": [
        "# Manejo de Errores en Python"
      ],
      "metadata": {
        "id": "t8lgREILkyGS"
      }
    },
    {
      "cell_type": "markdown",
      "source": [
        "El manejo apropiado de errores y excepciones es una habilidad crucial para desarrollar programas robustos y confiables. Los errores son parte inevitable de la programación, por lo que saber cómo manejarlos correctamente es esencial.\n",
        "\n",
        "* Tipos de errores: Existen diferentes tipos de errores y excepciones incorporados en Python como **SyntaxError**, **NameError**, **TypeError**, etc. Entender estos errores nos ayudará a debuggear y manejar problemas en nuestros programas.\n",
        "\n",
        "* Manejar excepciones: El uso correcto de bloques *try/except* es esencial para manejar errores (esto sería, hacer \"algo\" cuando ocurre una situación anómala, que puede saberse de antemano o no) en vez de que nuestro programa falle completamente. Aprenderemos técnicas como capturar excepciones específicas y usar else y finally.\n",
        "\n",
        "* Excepciones personalizadas: Para manejar mejor nuestro código, podemos definir nuestros propios tipos de excepciones que sean específicas a nuestra aplicación. Veremos cómo crear y usar estas excepciones personalizadas. Suele usarse al contruir módulos por ejemplo."
      ],
      "metadata": {
        "id": "Hnn9gx7M5ZQT"
      }
    },
    {
      "cell_type": "markdown",
      "source": [
        "## Tipos de errores"
      ],
      "metadata": {
        "id": "_2CnpzGf6x7b"
      }
    },
    {
      "cell_type": "markdown",
      "source": [
        "Cuando se ejecuta un programa/código/script Python, diferentes tipos de errores pueden ocurrir que detienen el flujo normal de ejecución y levantan excepciones. Es importante entender los tipos de errores incorporados en el lenguaje para poder manejarlos apropiadamente."
      ],
      "metadata": {
        "id": "dsuPWihW65nZ"
      }
    },
    {
      "cell_type": "markdown",
      "source": [
        "### **SyntaxError**"
      ],
      "metadata": {
        "id": "KGsJJBpM7WSO"
      }
    },
    {
      "cell_type": "markdown",
      "source": [
        "Un SyntaxError ocurre cuando Python encuentra un error en la sintaxis del programa. Por ejemplo:"
      ],
      "metadata": {
        "id": "jdN2LW9V7bCT"
      }
    },
    {
      "cell_type": "code",
      "source": [
        "# Produce un SyntaxError porque falta el paréntesis de cierre\n",
        "print("
      ],
      "metadata": {
        "colab": {
          "base_uri": "https://localhost:8080/",
          "height": 141
        },
        "id": "YudHTYCe68Rt",
        "outputId": "7d346841-73d3-490a-abca-651adbf79793"
      },
      "execution_count": null,
      "outputs": [
        {
          "output_type": "error",
          "ename": "SyntaxError",
          "evalue": "ignored",
          "traceback": [
            "\u001b[0;36m  File \u001b[0;32m\"<ipython-input-3-30a1d41f7344>\"\u001b[0;36m, line \u001b[0;32m2\u001b[0m\n\u001b[0;31m    print(\u001b[0m\n\u001b[0m          ^\u001b[0m\n\u001b[0;31mSyntaxError\u001b[0m\u001b[0;31m:\u001b[0m incomplete input\n"
          ]
        }
      ]
    },
    {
      "cell_type": "markdown",
      "source": [
        "### **NameError**"
      ],
      "metadata": {
        "id": "5-6qDiXZ7kHF"
      }
    },
    {
      "cell_type": "markdown",
      "source": [
        "Un NameError ocurre cuando se intenta usar una variable que no ha sido definida. Por ejemplo:"
      ],
      "metadata": {
        "id": "qo3nrxXw7nSb"
      }
    },
    {
      "cell_type": "code",
      "source": [
        "print(variable) # Produce un NameError porque 'variable' no está definida:"
      ],
      "metadata": {
        "colab": {
          "base_uri": "https://localhost:8080/",
          "height": 176
        },
        "id": "Zdn5mVTV7nyu",
        "outputId": "045178c2-34bc-47e5-bab6-61f19a580e3a"
      },
      "execution_count": null,
      "outputs": [
        {
          "output_type": "error",
          "ename": "NameError",
          "evalue": "ignored",
          "traceback": [
            "\u001b[0;31m---------------------------------------------------------------------------\u001b[0m",
            "\u001b[0;31mNameError\u001b[0m                                 Traceback (most recent call last)",
            "\u001b[0;32m<ipython-input-4-6d31a66c178d>\u001b[0m in \u001b[0;36m<cell line: 1>\u001b[0;34m()\u001b[0m\n\u001b[0;32m----> 1\u001b[0;31m \u001b[0mprint\u001b[0m\u001b[0;34m(\u001b[0m\u001b[0mvariable\u001b[0m\u001b[0;34m)\u001b[0m \u001b[0;31m# Produce un NameError porque 'variable' no está definida:\u001b[0m\u001b[0;34m\u001b[0m\u001b[0;34m\u001b[0m\u001b[0m\n\u001b[0m",
            "\u001b[0;31mNameError\u001b[0m: name 'variable' is not defined"
          ]
        }
      ]
    },
    {
      "cell_type": "markdown",
      "source": [
        "### **TypeError**"
      ],
      "metadata": {
        "id": "VC_N_FMt7y8m"
      }
    },
    {
      "cell_type": "markdown",
      "source": [
        "Un TypeError se levanta cuando se aplica una operación o función a un tipo de objeto inválido. Por ejemplo:"
      ],
      "metadata": {
        "id": "TqI9yI2A70yn"
      }
    },
    {
      "cell_type": "code",
      "source": [
        "1 + '2'         # Produce un TypeError porque no se puede sumar un int y un string"
      ],
      "metadata": {
        "colab": {
          "base_uri": "https://localhost:8080/",
          "height": 176
        },
        "id": "U15QQ_oR74iY",
        "outputId": "403ed442-e289-4834-ec07-6759b85a5bed"
      },
      "execution_count": null,
      "outputs": [
        {
          "output_type": "error",
          "ename": "TypeError",
          "evalue": "ignored",
          "traceback": [
            "\u001b[0;31m---------------------------------------------------------------------------\u001b[0m",
            "\u001b[0;31mTypeError\u001b[0m                                 Traceback (most recent call last)",
            "\u001b[0;32m<ipython-input-5-d0fac78fa542>\u001b[0m in \u001b[0;36m<cell line: 1>\u001b[0;34m()\u001b[0m\n\u001b[0;32m----> 1\u001b[0;31m \u001b[0;36m1\u001b[0m \u001b[0;34m+\u001b[0m \u001b[0;34m'2'\u001b[0m         \u001b[0;31m# Produce un TypeError porque no se puede sumar un int y un string\u001b[0m\u001b[0;34m\u001b[0m\u001b[0;34m\u001b[0m\u001b[0m\n\u001b[0m",
            "\u001b[0;31mTypeError\u001b[0m: unsupported operand type(s) for +: 'int' and 'str'"
          ]
        }
      ]
    },
    {
      "cell_type": "markdown",
      "source": [
        "### **IndexError**"
      ],
      "metadata": {
        "id": "I8eSSnT878iu"
      }
    },
    {
      "cell_type": "markdown",
      "source": [
        "Un IndexError ocurre cuando se intenta acceder a un elemento en una secuencia (lista, tupla, etc) usando un índice inválido. Por ejemplo:"
      ],
      "metadata": {
        "id": "z6hGz0qD790o"
      }
    },
    {
      "cell_type": "code",
      "source": [
        "lista = [1, 2, 3]\n",
        "print(lista[3])   # Produce un IndexError porque 'lista' solo tiene 3 elementos (0 a 2)"
      ],
      "metadata": {
        "colab": {
          "base_uri": "https://localhost:8080/",
          "height": 194
        },
        "id": "EotvPNIC7_oT",
        "outputId": "96d536c4-5f4f-43a5-d5d5-e786aebee0b3"
      },
      "execution_count": null,
      "outputs": [
        {
          "output_type": "error",
          "ename": "IndexError",
          "evalue": "ignored",
          "traceback": [
            "\u001b[0;31m---------------------------------------------------------------------------\u001b[0m",
            "\u001b[0;31mIndexError\u001b[0m                                Traceback (most recent call last)",
            "\u001b[0;32m<ipython-input-6-b8b226384451>\u001b[0m in \u001b[0;36m<cell line: 2>\u001b[0;34m()\u001b[0m\n\u001b[1;32m      1\u001b[0m \u001b[0mlista\u001b[0m \u001b[0;34m=\u001b[0m \u001b[0;34m[\u001b[0m\u001b[0;36m1\u001b[0m\u001b[0;34m,\u001b[0m \u001b[0;36m2\u001b[0m\u001b[0;34m,\u001b[0m \u001b[0;36m3\u001b[0m\u001b[0;34m]\u001b[0m\u001b[0;34m\u001b[0m\u001b[0;34m\u001b[0m\u001b[0m\n\u001b[0;32m----> 2\u001b[0;31m \u001b[0mprint\u001b[0m\u001b[0;34m(\u001b[0m\u001b[0mlista\u001b[0m\u001b[0;34m[\u001b[0m\u001b[0;36m3\u001b[0m\u001b[0;34m]\u001b[0m\u001b[0;34m)\u001b[0m   \u001b[0;31m# Produce un IndexError porque 'lista' solo tiene 3 elementos (0 a 2)\u001b[0m\u001b[0;34m\u001b[0m\u001b[0;34m\u001b[0m\u001b[0m\n\u001b[0m",
            "\u001b[0;31mIndexError\u001b[0m: list index out of range"
          ]
        }
      ]
    },
    {
      "cell_type": "markdown",
      "source": [
        "Y la lista sigue, para más info: https://docs.python.org/es/3/tutorial/errors.html"
      ],
      "metadata": {
        "id": "T0CvB-QM8VPu"
      }
    },
    {
      "cell_type": "markdown",
      "source": [
        "## Manejando Excepciones"
      ],
      "metadata": {
        "id": "1k1b7QLf8plS"
      }
    },
    {
      "cell_type": "markdown",
      "source": [
        "La sentencia try funciona de la siguiente manera.\n",
        "\n",
        "* Primero, se ejecuta la cláusula `try` (la(s) linea(s) entre las palabras reservadas `try` y la `except`).\n",
        "* Si no ocurre ninguna excepción, la cláusula `except` se omite y la ejecución de la cláusula `try` finaliza.\n",
        "* Si ocurre una excepción durante la ejecución de la cláusula `try`, se omite el resto de la cláusula. Luego, si su tipo coincide con la excepción nombrada después de la palabra clave `except`, se ejecuta la cláusula `except`, y luego la ejecución continúa después del bloque `try/except`.\n",
        "* Si ocurre una excepción que no coincide con la indicada en la cláusula `except` se pasa a los `try` más externos; si no se encuentra un gestor, se genera una (excepción no gestionada) y la ejecución se interrumpe. Esto genera que se cierre el programa."
      ],
      "metadata": {
        "id": "vGUD6HL09PbF"
      }
    },
    {
      "cell_type": "markdown",
      "source": [
        "`try/except` es la forma primaria de manejar errores en Python"
      ],
      "metadata": {
        "id": "cjkVy7tq8t2-"
      }
    },
    {
      "cell_type": "code",
      "source": [
        "try:\n",
        "    1/0   # Cuando llega a esta línea, ocurre el problema\n",
        "    print(\"Normalito\")\n",
        "except ZeroDivisionError:\n",
        "    print(\"No se puede dividir por cero\")\n",
        "else:\n",
        "    print(\"Todo correcto\")"
      ],
      "metadata": {
        "colab": {
          "base_uri": "https://localhost:8080/"
        },
        "id": "aiWoEgr286w7",
        "outputId": "3fc3b636-643d-47e3-ffba-b7dc2b394001"
      },
      "execution_count": null,
      "outputs": [
        {
          "output_type": "stream",
          "name": "stdout",
          "text": [
            "No se puede dividir por cero\n"
          ]
        }
      ]
    },
    {
      "cell_type": "markdown",
      "source": [
        "Podemos usar `else` para ejecutar código sólo si no ocurrió una excepción:"
      ],
      "metadata": {
        "id": "zK3frqYd-JGO"
      }
    },
    {
      "cell_type": "code",
      "source": [
        "try:\n",
        "   # código riesgoso\n",
        "except:\n",
        "   # maneja excepción\n",
        "else:\n",
        "   # ejecuta si no ocurrió excepción"
      ],
      "metadata": {
        "id": "2NA02s-e-FHa"
      },
      "execution_count": null,
      "outputs": []
    },
    {
      "cell_type": "markdown",
      "source": [
        "`Finally` siempre se ejecuta al final:"
      ],
      "metadata": {
        "id": "2QWlAmbE-Mpg"
      }
    },
    {
      "cell_type": "code",
      "source": [
        "try:\n",
        "   # código riesgoso\n",
        "except:\n",
        "   # maneja excepción\n",
        "finally:\n",
        "   # siempre se ejecuta"
      ],
      "metadata": {
        "id": "1w7Lp4X0-Pkn"
      },
      "execution_count": null,
      "outputs": []
    },
    {
      "cell_type": "markdown",
      "source": [
        "`try/except` es lo mínimo necesario, pero la estructura completa se ve como:"
      ],
      "metadata": {
        "id": "v1d5k9yR-TJM"
      }
    },
    {
      "cell_type": "code",
      "source": [
        "try:\n",
        "   # código riesgoso\n",
        "except TypeError:\n",
        "   # maneja error de tipo TypeError\n",
        "except (ValueError, AttributeError):\n",
        "   # maneja errores de tipo ValueError o AttributeError\n",
        "except:\n",
        "   # maneja cualquier excepción, útil para capturar algo diferente a lo \"premeditado\"\n",
        "finally:\n",
        "   # siempre se ejecuta\n",
        "else:\n",
        "  # ejecuta si no ocurrió excepción"
      ],
      "metadata": {
        "id": "c3zi9Piq-UEw"
      },
      "execution_count": null,
      "outputs": []
    },
    {
      "cell_type": "markdown",
      "source": [
        "Notar que, pueden existir múltiples tipos de excepciones para un determinado código. Por lo general, cada tipo de excepción requiere un tratamiento específico."
      ],
      "metadata": {
        "id": "nN0IZyd7-v46"
      }
    },
    {
      "cell_type": "code",
      "source": [
        "try:\n",
        "  # código para el cuál desconozco posibilidad de errores\n",
        "  codigo:malo\n",
        "except Exception as error:\n",
        "    # derivo el error a una variable. Puedo usar para debugging, sin que detenga abruptamente el resto del código.\n",
        "    print('La excepción es:', error)"
      ],
      "metadata": {
        "colab": {
          "base_uri": "https://localhost:8080/"
        },
        "id": "zwngoBHI_Eb6",
        "outputId": "4c192253-30a0-499a-a393-3539a4abaefe"
      },
      "execution_count": null,
      "outputs": [
        {
          "output_type": "stream",
          "name": "stdout",
          "text": [
            "La excepción es: name 'malo' is not defined\n"
          ]
        }
      ]
    },
    {
      "cell_type": "markdown",
      "source": [
        "### Ejemplos"
      ],
      "metadata": {
        "id": "W04PRmdK86JB"
      }
    },
    {
      "cell_type": "code",
      "source": [
        "a = \"25\"\n",
        "b = 5\n",
        "\n",
        "try:\n",
        "    print(a+b)\n",
        "    print(\"Se interpreta esta linea.\")\n",
        "except:\n",
        "    print(int(a)+int(b)) # convierto a int ambas variables\n",
        "    print(\"Arriba pasó algo, se interpretó esta linea.\")"
      ],
      "metadata": {
        "id": "c9pCy2q1k5_x",
        "colab": {
          "base_uri": "https://localhost:8080/"
        },
        "outputId": "4b6af4c3-7d11-48de-a54e-a938d1c3dbb8"
      },
      "execution_count": null,
      "outputs": [
        {
          "output_type": "stream",
          "name": "stdout",
          "text": [
            "30\n",
            "Arriba pasó algo, se interpretó esta linea.\n"
          ]
        }
      ]
    },
    {
      "cell_type": "code",
      "source": [
        "try:\n",
        "    print(a+b)\n",
        "except Exception as e:\n",
        "    print(\"El error fue {}\".format(e))"
      ],
      "metadata": {
        "id": "lTKLgIQxlEP_",
        "colab": {
          "base_uri": "https://localhost:8080/"
        },
        "outputId": "c8bb7675-433f-40c1-e80d-13ddeb54e75d"
      },
      "execution_count": null,
      "outputs": [
        {
          "output_type": "stream",
          "name": "stdout",
          "text": [
            "El error fue can only concatenate str (not \"int\") to str\n"
          ]
        }
      ]
    },
    {
      "cell_type": "markdown",
      "source": [
        "También podemos especificar qué hacer para distintos tipos de error:"
      ],
      "metadata": {
        "id": "rZaPB4nBlpOH"
      }
    },
    {
      "cell_type": "code",
      "source": [
        "lista_tuplas = [('3', 8),\n",
        "                (5, 0),\n",
        "                (3, ),\n",
        "                (4, 6)]\n",
        "\n",
        "for t in lista_tuplas:\n",
        "    print(f\"la tupla es {t}\")\n",
        "\n",
        "    try:\n",
        "        print(\"intento dividir...\")\n",
        "        print(t[0] / t[1])\n",
        "        print(\"éxito!\")\n",
        "    except IndexError:\n",
        "        print('El largo está mal')\n",
        "    except TypeError:\n",
        "        print('Error en el tipo de datos')\n",
        "    except ZeroDivisionError:\n",
        "        print(\"No se puede dividir por cero\")\n",
        "\n",
        "    input(\"Continuar?\")"
      ],
      "metadata": {
        "id": "TivXCEATlp49",
        "colab": {
          "base_uri": "https://localhost:8080/"
        },
        "outputId": "556631b4-8c36-4fbd-d0af-111c64f2b796"
      },
      "execution_count": null,
      "outputs": [
        {
          "name": "stdout",
          "output_type": "stream",
          "text": [
            "la tupla es ('3', 8)\n",
            "intento dividir...\n",
            "Error en el tipo de datos\n",
            "Continuar?\n",
            "la tupla es (5, 0)\n",
            "intento dividir...\n",
            "No se puede dividir por cero\n",
            "Continuar?\n",
            "la tupla es (3,)\n",
            "intento dividir...\n",
            "El largo está mal\n",
            "Continuar?\n",
            "la tupla es (4, 6)\n",
            "intento dividir...\n",
            "0.6666666666666666\n",
            "éxito!\n",
            "Continuar?\n",
            "la tupla es ('3', 8)\n",
            "intento dividir...\n",
            "Error en el tipo de datos\n",
            "Continuar?\n"
          ]
        }
      ]
    },
    {
      "cell_type": "markdown",
      "source": [
        "## Lanzar Excepciones"
      ],
      "metadata": {
        "id": "EoD2TnA9BvwB"
      }
    },
    {
      "cell_type": "markdown",
      "source": [
        "Podemos levantar excepciones manualmente con la palabra `raise`:"
      ],
      "metadata": {
        "id": "duqEr_BGA_Lj"
      }
    },
    {
      "cell_type": "code",
      "source": [
        "raise ValueError('Valor inválido')    # Esto levantará un error y puede ser manejado por bloques try/except."
      ],
      "metadata": {
        "colab": {
          "base_uri": "https://localhost:8080/",
          "height": 194
        },
        "id": "mIv8ISwnB2qG",
        "outputId": "abbba73a-0721-4134-86f1-63c6d036b09d"
      },
      "execution_count": null,
      "outputs": [
        {
          "output_type": "error",
          "ename": "ValueError",
          "evalue": "ignored",
          "traceback": [
            "\u001b[0;31m---------------------------------------------------------------------------\u001b[0m",
            "\u001b[0;31mValueError\u001b[0m                                Traceback (most recent call last)",
            "\u001b[0;32m<ipython-input-1-0497cb2cddae>\u001b[0m in \u001b[0;36m<cell line: 1>\u001b[0;34m()\u001b[0m\n\u001b[0;32m----> 1\u001b[0;31m \u001b[0;32mraise\u001b[0m \u001b[0mValueError\u001b[0m\u001b[0;34m(\u001b[0m\u001b[0;34m'Valor inválido'\u001b[0m\u001b[0;34m)\u001b[0m    \u001b[0;31m# Esto levantará un error y puede ser manejado por bloques try/except.\u001b[0m\u001b[0;34m\u001b[0m\u001b[0;34m\u001b[0m\u001b[0m\n\u001b[0m",
            "\u001b[0;31mValueError\u001b[0m: Valor inválido"
          ]
        }
      ]
    },
    {
      "cell_type": "code",
      "source": [
        "def otra_funcion():\n",
        "  raise ValueError(\"Otro\")"
      ],
      "metadata": {
        "id": "xAVgjRBMVqz8"
      },
      "execution_count": null,
      "outputs": []
    },
    {
      "cell_type": "code",
      "source": [
        "def funcion(valor_1, valor_2):\n",
        "  \"\"\"\n",
        "  Función de ejemplo. Hipotéticamente, hace algo si valor_2 es mayor que valor_1. Enteros\n",
        "  Devuelve la suma aritmética. Es decir: un entero\n",
        "\n",
        "  \"\"\"\n",
        "  if valor_2 < valor_1:\n",
        "    otra_funcion()\n",
        "    raise ValueError('Valor inválido: el 2do argumento debe ser MAYOR al primero.')\n",
        "    Acá\n",
        "    # Corto acá la ejecución si no puedo proceder con datos incorrectos...\n",
        "    # Pateo el problema al lugar dónde invocaron este código\n",
        "  else:\n",
        "    print(\"Tarea realizada correctamente...\")\n",
        "    return \"aldo\""
      ],
      "metadata": {
        "id": "mfa6dY0OB3YI"
      },
      "execution_count": null,
      "outputs": []
    },
    {
      "cell_type": "code",
      "source": [
        "# Nivel superior\n",
        "funcion(2, 1)"
      ],
      "metadata": {
        "colab": {
          "base_uri": "https://localhost:8080/",
          "height": 408
        },
        "id": "nq0ECn_cCWQb",
        "outputId": "18a2c514-3135-4ae3-cd25-8b4079665704"
      },
      "execution_count": null,
      "outputs": [
        {
          "output_type": "error",
          "ename": "ValueError",
          "evalue": "ignored",
          "traceback": [
            "\u001b[0;31m---------------------------------------------------------------------------\u001b[0m",
            "\u001b[0;31mValueError\u001b[0m                                Traceback (most recent call last)",
            "\u001b[0;32m<ipython-input-20-f9eeffbbdd1d>\u001b[0m in \u001b[0;36m<cell line: 2>\u001b[0;34m()\u001b[0m\n\u001b[1;32m      1\u001b[0m \u001b[0;31m# Nivel superior\u001b[0m\u001b[0;34m\u001b[0m\u001b[0;34m\u001b[0m\u001b[0m\n\u001b[0;32m----> 2\u001b[0;31m \u001b[0mfuncion\u001b[0m\u001b[0;34m(\u001b[0m\u001b[0;36m2\u001b[0m\u001b[0;34m,\u001b[0m \u001b[0;36m1\u001b[0m\u001b[0;34m)\u001b[0m\u001b[0;34m\u001b[0m\u001b[0;34m\u001b[0m\u001b[0m\n\u001b[0m",
            "\u001b[0;32m<ipython-input-19-db6de462a45d>\u001b[0m in \u001b[0;36mfuncion\u001b[0;34m(valor_1, valor_2)\u001b[0m\n\u001b[1;32m      6\u001b[0m   \"\"\"\n\u001b[1;32m      7\u001b[0m   \u001b[0;32mif\u001b[0m \u001b[0mvalor_2\u001b[0m \u001b[0;34m<\u001b[0m \u001b[0mvalor_1\u001b[0m\u001b[0;34m:\u001b[0m\u001b[0;34m\u001b[0m\u001b[0;34m\u001b[0m\u001b[0m\n\u001b[0;32m----> 8\u001b[0;31m     \u001b[0motra_funcion\u001b[0m\u001b[0;34m(\u001b[0m\u001b[0;34m)\u001b[0m\u001b[0;34m\u001b[0m\u001b[0;34m\u001b[0m\u001b[0m\n\u001b[0m\u001b[1;32m      9\u001b[0m     \u001b[0;32mraise\u001b[0m \u001b[0mValueError\u001b[0m\u001b[0;34m(\u001b[0m\u001b[0;34m'Valor inválido: el 2do argumento debe ser MAYOR al primero.'\u001b[0m\u001b[0;34m)\u001b[0m\u001b[0;34m\u001b[0m\u001b[0;34m\u001b[0m\u001b[0m\n\u001b[1;32m     10\u001b[0m     \u001b[0;31m# Corto acá la ejecución si no puedo proceder con datos incorrectos...\u001b[0m\u001b[0;34m\u001b[0m\u001b[0;34m\u001b[0m\u001b[0m\n",
            "\u001b[0;32m<ipython-input-18-73192ff18de7>\u001b[0m in \u001b[0;36motra_funcion\u001b[0;34m()\u001b[0m\n\u001b[1;32m      1\u001b[0m \u001b[0;32mdef\u001b[0m \u001b[0motra_funcion\u001b[0m\u001b[0;34m(\u001b[0m\u001b[0;34m)\u001b[0m\u001b[0;34m:\u001b[0m\u001b[0;34m\u001b[0m\u001b[0;34m\u001b[0m\u001b[0m\n\u001b[0;32m----> 2\u001b[0;31m   \u001b[0;32mraise\u001b[0m \u001b[0mValueError\u001b[0m\u001b[0;34m(\u001b[0m\u001b[0;34m\"Otro\"\u001b[0m\u001b[0;34m)\u001b[0m\u001b[0;34m\u001b[0m\u001b[0;34m\u001b[0m\u001b[0m\n\u001b[0m",
            "\u001b[0;31mValueError\u001b[0m: Otro"
          ]
        }
      ]
    },
    {
      "cell_type": "code",
      "source": [
        "funcion(2, 10)"
      ],
      "metadata": {
        "colab": {
          "base_uri": "https://localhost:8080/"
        },
        "id": "SQ_JBjpmFE-F",
        "outputId": "db4b4de1-dc7a-4f0d-f2d6-7757ca03a309"
      },
      "execution_count": null,
      "outputs": [
        {
          "output_type": "stream",
          "name": "stdout",
          "text": [
            "Tarea realizada correctamente...\n"
          ]
        }
      ]
    },
    {
      "cell_type": "code",
      "source": [
        "try:\n",
        "  funcion(2, 1)\n",
        "except:\n",
        "  print(\"Ocurrió un error...\")\n",
        "  # No sé qué pasó, sé que hubo un error porque entró al except"
      ],
      "metadata": {
        "colab": {
          "base_uri": "https://localhost:8080/"
        },
        "id": "1m5C1GNFCZdd",
        "outputId": "8782d08f-1c15-4129-89b1-5a827e481400"
      },
      "execution_count": null,
      "outputs": [
        {
          "output_type": "stream",
          "name": "stdout",
          "text": [
            "Tarea realizada correctamente...\n"
          ]
        }
      ]
    },
    {
      "cell_type": "code",
      "source": [
        "try:\n",
        "  funcion(2, 1)\n",
        "except ValueError:\n",
        "  print(\"Ocurrió un ValueError...\")\n",
        "  # Sé que el error fue de este tipo, porque tengo una excepción para el mismo."
      ],
      "metadata": {
        "colab": {
          "base_uri": "https://localhost:8080/"
        },
        "id": "AtW--P7IChza",
        "outputId": "2b21e06a-4701-45c2-dd28-3ec5514dcc91"
      },
      "execution_count": null,
      "outputs": [
        {
          "output_type": "stream",
          "name": "stdout",
          "text": [
            "Ocurrió un ValueError...\n"
          ]
        }
      ]
    },
    {
      "cell_type": "code",
      "source": [
        "try:\n",
        "  funcion(2, 1)\n",
        "except ValueError as e:\n",
        "  print(\"Ocurrió un ValueError con: {}\".format(e))\n",
        "  # Además del tipo, capturo la información incluida durante la excepción"
      ],
      "metadata": {
        "colab": {
          "base_uri": "https://localhost:8080/"
        },
        "id": "90M-KawDCmqM",
        "outputId": "39bc0003-40ce-4236-8473-742f42fe28fb"
      },
      "execution_count": null,
      "outputs": [
        {
          "output_type": "stream",
          "name": "stdout",
          "text": [
            "Ocurrió un ValueError con: Valor inválido: el 2do argumento debe ser MAYOR al primero.\n"
          ]
        }
      ]
    },
    {
      "cell_type": "markdown",
      "source": [
        "## Excepciones Personalizadas"
      ],
      "metadata": {
        "id": "1xEr2mb5A2jg"
      }
    },
    {
      "cell_type": "markdown",
      "source": [
        "Además de los tipos de excepciones incorporadas en Python, podemos definir nuestras propias clases de excepciones para manejar errores específicos a nuestra aplicación.\n",
        "\n",
        "Las excepciones personalizadas nos permiten lanzar errores más descriptivos y personalizados para nuestro código (valga la redundancia). Esto hace el manejo de errores más claro y fácil de entender para otros desarrolladores que usen nuestro código.\n",
        "\n",
        "Para crear una excepción personalizada, se define una clase heredando de la clase **Exception**:"
      ],
      "metadata": {
        "id": "LYNy-f6yBzFb"
      }
    },
    {
      "cell_type": "markdown",
      "source": [
        "**NOTA**: enseguida vemos qué es eso de herencia, clase y demás, en detalle."
      ],
      "metadata": {
        "id": "8P4ECXpuEM4S"
      }
    },
    {
      "cell_type": "code",
      "source": [
        "class MiErrorPersonalizado(Exception):\n",
        "    pass"
      ],
      "metadata": {
        "id": "mHw5zppeBDyY"
      },
      "execution_count": null,
      "outputs": []
    },
    {
      "cell_type": "markdown",
      "source": [
        "Podemos incluir atributos y métodos para proveer más contexto de la excepción:"
      ],
      "metadata": {
        "id": "eA7hoj2dDEFX"
      }
    },
    {
      "cell_type": "code",
      "source": [
        "class ValorMuyAltoError(Exception):\n",
        "    def __init__(self, mensaje, valor):\n",
        "        self.mensaje = mensaje\n",
        "        self.valor = valor"
      ],
      "metadata": {
        "id": "ed4CD-UtDFoj"
      },
      "execution_count": null,
      "outputs": []
    },
    {
      "cell_type": "markdown",
      "source": [
        "Para lanzar la excepción personalizada se utiliza la sentencia `raise`:"
      ],
      "metadata": {
        "id": "Am5P54uNDHtN"
      }
    },
    {
      "cell_type": "code",
      "source": [
        "valor = 1001\n",
        "if valor > 1000:\n",
        "    raise ValorMuyAltoError('El valor es muy alto', valor)"
      ],
      "metadata": {
        "colab": {
          "base_uri": "https://localhost:8080/",
          "height": 211
        },
        "id": "MEE2d0afDJsD",
        "outputId": "f63ee856-6221-4abc-9e15-76540da0e304"
      },
      "execution_count": null,
      "outputs": [
        {
          "output_type": "error",
          "ename": "ValorMuyAltoError",
          "evalue": "ignored",
          "traceback": [
            "\u001b[0;31m---------------------------------------------------------------------------\u001b[0m",
            "\u001b[0;31mValorMuyAltoError\u001b[0m                         Traceback (most recent call last)",
            "\u001b[0;32m<ipython-input-12-044218c755d7>\u001b[0m in \u001b[0;36m<cell line: 2>\u001b[0;34m()\u001b[0m\n\u001b[1;32m      1\u001b[0m \u001b[0mvalor\u001b[0m \u001b[0;34m=\u001b[0m \u001b[0;36m1001\u001b[0m\u001b[0;34m\u001b[0m\u001b[0;34m\u001b[0m\u001b[0m\n\u001b[1;32m      2\u001b[0m \u001b[0;32mif\u001b[0m \u001b[0mvalor\u001b[0m \u001b[0;34m>\u001b[0m \u001b[0;36m1000\u001b[0m\u001b[0;34m:\u001b[0m\u001b[0;34m\u001b[0m\u001b[0;34m\u001b[0m\u001b[0m\n\u001b[0;32m----> 3\u001b[0;31m     \u001b[0;32mraise\u001b[0m \u001b[0mValorMuyAltoError\u001b[0m\u001b[0;34m(\u001b[0m\u001b[0;34m'El valor es muy alto'\u001b[0m\u001b[0;34m,\u001b[0m \u001b[0mvalor\u001b[0m\u001b[0;34m)\u001b[0m\u001b[0;34m\u001b[0m\u001b[0;34m\u001b[0m\u001b[0m\n\u001b[0m",
            "\u001b[0;31mValorMuyAltoError\u001b[0m: ('El valor es muy alto', 1001)"
          ]
        }
      ]
    },
    {
      "cell_type": "markdown",
      "source": [
        "Luego podemos capturar esta excepción para manejarla:"
      ],
      "metadata": {
        "id": "5mKL04KVDOBt"
      }
    },
    {
      "cell_type": "code",
      "source": [
        "def funcion_arriesgada(valor):\n",
        "  if valor > 1000:\n",
        "    raise ValorMuyAltoError('El valor es muy alto', valor)"
      ],
      "metadata": {
        "id": "9dVEZjvFFpbC"
      },
      "execution_count": null,
      "outputs": []
    },
    {
      "cell_type": "code",
      "source": [
        "try:\n",
        "    funcion_arriesgada(5555)\n",
        "except ValorMuyAltoError as e:\n",
        "    print(e.mensaje)\n",
        "    print('Valor:', e.valor)\n",
        "    # Este comportamiento... ya corresponde a \"objetos\". Ya lo vemos...\n",
        "    # Accedemos a las propiedades que definimos para un tipo concreto de error que satisface nuestras necesidades."
      ],
      "metadata": {
        "colab": {
          "base_uri": "https://localhost:8080/"
        },
        "id": "wg5gCLPMDOZv",
        "outputId": "78404b4c-33c1-45f6-dddd-22a2b6278ef4"
      },
      "execution_count": null,
      "outputs": [
        {
          "output_type": "stream",
          "name": "stdout",
          "text": [
            "El valor es muy alto\n",
            "Valor: 5555\n"
          ]
        }
      ]
    },
    {
      "cell_type": "markdown",
      "source": [
        "Las excepciones personalizadas nos permiten manejar errores de una forma más precisa y descriptiva en nuestros programas."
      ],
      "metadata": {
        "id": "CmBMbnIIBsmZ"
      }
    },
    {
      "cell_type": "markdown",
      "source": [
        "## Buenas Prácticas"
      ],
      "metadata": {
        "id": "zSZh59mwGlSm"
      }
    },
    {
      "cell_type": "markdown",
      "source": [
        "Además de las técnicas básicas de manejo de excepciones, existen buenas prácticas que conviene seguir para generar código más robusto, limpio, entendible y profesional."
      ],
      "metadata": {
        "id": "x75R48EpGqAv"
      }
    },
    {
      "cell_type": "markdown",
      "source": [
        "### Documentar excepciones en docstrings"
      ],
      "metadata": {
        "id": "rzbZheppG27O"
      }
    },
    {
      "cell_type": "markdown",
      "source": [
        "Es una buena práctica documentar qué excepciones puede levantar una función o método dentro de su docstring:"
      ],
      "metadata": {
        "id": "dfZ4A7QcG5ah"
      }
    },
    {
      "cell_type": "code",
      "source": [
        "def funcion_peligrosa(argumento):\n",
        "    \"\"\"\n",
        "    Realiza operaciones arriesgadas.\n",
        "\n",
        "    Puede levantar:\n",
        "        - ValueError si el argumento es inválido.\n",
        "        - ZeroDivisionError si el argumento es 0.\n",
        "    \"\"\"\n",
        "    # Acá el código..."
      ],
      "metadata": {
        "id": "achdDM3GG626"
      },
      "execution_count": null,
      "outputs": []
    },
    {
      "cell_type": "markdown",
      "source": [
        "### Imprimir traceback"
      ],
      "metadata": {
        "id": "Wsi4hBjCHNPi"
      }
    },
    {
      "cell_type": "markdown",
      "source": [
        "Al manejar una excepción, es recomendable imprimir el traceback completo usando `traceback.print_exc()`. Esto nos da información útil para debuggear:"
      ],
      "metadata": {
        "id": "Momc-DpvHPj2"
      }
    },
    {
      "cell_type": "code",
      "source": [
        "import traceback\n",
        "\n",
        "try:\n",
        "    funcion_arriesgada(5555)\n",
        "except:\n",
        "    print(\"Ocurrió un error:\")\n",
        "    traceback.print_exc()"
      ],
      "metadata": {
        "colab": {
          "base_uri": "https://localhost:8080/"
        },
        "id": "ViBhqqWMHL0L",
        "outputId": "62b2075b-6bac-4673-cc83-f33c5271ac26"
      },
      "execution_count": null,
      "outputs": [
        {
          "output_type": "stream",
          "name": "stdout",
          "text": [
            "Ocurrió un error:\n"
          ]
        },
        {
          "output_type": "stream",
          "name": "stderr",
          "text": [
            "Traceback (most recent call last):\n",
            "  File \"<ipython-input-30-a96fd38865b0>\", line 4, in <cell line: 3>\n",
            "    funcion_arriesgada(5555)\n",
            "  File \"<ipython-input-25-c36a0e2386a4>\", line 3, in funcion_arriesgada\n",
            "    raise ValorMuyAltoError('El valor es muy alto', valor)\n",
            "ValorMuyAltoError: ('El valor es muy alto', 5555)\n"
          ]
        }
      ]
    },
    {
      "cell_type": "markdown",
      "source": [
        "### No usar cláusulas except genéricas"
      ],
      "metadata": {
        "id": "LK28TYvmHq8f"
      }
    },
    {
      "cell_type": "markdown",
      "source": [
        "Debemos evitar cláusulas `except` genéricas que atrapan cualquier excepción como `except:` ya que pueden ocultar errores inesperados. Siempre es mejor manejar excepciones específicas cuando sea posible."
      ],
      "metadata": {
        "id": "kJzq7JBHHt00"
      }
    },
    {
      "cell_type": "markdown",
      "source": [
        "### Manejar excepciones de manera apropiada"
      ],
      "metadata": {
        "id": "mDfuzNh5H1SG"
      }
    },
    {
      "cell_type": "markdown",
      "source": [
        "Por ejemplo, no usar excepciones para control de flujo normal de un programa. Las excepciones deben manejarse, pero las condiciones normales deben controlarse con sentencias `if/else`."
      ],
      "metadata": {
        "id": "mmob-Iw6H38G"
      }
    },
    {
      "cell_type": "markdown",
      "source": [
        "# Referencias y Recursos"
      ],
      "metadata": {
        "id": "HpHPWJmvStcO"
      }
    },
    {
      "cell_type": "markdown",
      "source": [
        "\n",
        "\n",
        "*   https://docs.python.org/es/3/tutorial/index.html\n",
        "*   https://www.w3schools.com/python/default.asp\n",
        "\n"
      ],
      "metadata": {
        "id": "x5EHHw6uSwm2"
      }
    }
  ]
}