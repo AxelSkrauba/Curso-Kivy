{
  "nbformat": 4,
  "nbformat_minor": 0,
  "metadata": {
    "colab": {
      "provenance": [],
      "collapsed_sections": [
        "XVn_2Zt6pQyp",
        "S-dkqL8ypYrC",
        "aKIp5k3zrXOJ",
        "OIbtsLOtwXX6",
        "xJCq3mmT1rmd",
        "wt5cJMkFi9Jr",
        "Q70ltSig18re",
        "HpHPWJmvStcO"
      ]
    },
    "kernelspec": {
      "name": "python3",
      "display_name": "Python 3"
    },
    "language_info": {
      "name": "python"
    }
  },
  "cells": [
    {
      "cell_type": "markdown",
      "source": [
        "# Programación Orientada a Objetos"
      ],
      "metadata": {
        "id": "XVn_2Zt6pQyp"
      }
    },
    {
      "cell_type": "markdown",
      "source": [
        "En el paradigma de programación orientada a objetos los programas se estructuran organizando el código en entidades llamadas objetos. Estos nos permiten encapsular datos, funciones y variables dentro de una misma clase."
      ],
      "metadata": {
        "id": "je9lXgTspSnL"
      }
    },
    {
      "cell_type": "markdown",
      "source": [
        "## Terminologia de clases y objetos"
      ],
      "metadata": {
        "id": "S-dkqL8ypYrC"
      }
    },
    {
      "cell_type": "markdown",
      "source": [
        "1. Una **clase** es un prototipo de objeto, que engloba atributos que poseen todos los objetos de esa clase. Los atributos pueden ser datos como variables de clase y de instancia, y métodos (funciones). Se acceden con un punto.\n",
        "\n",
        "2. Una **instancia** es un objeto en particular que pertenece a una clase.\n",
        "\n",
        "3. Los **atributos** son variables asociadas a los objetos. Los atributos pueden ser de clase (toman el mismo valor para toda la clase) o de instancia (toman un valor diferente para cada instancia). Lo más común de utilizar son los atributos de instancia que reflejan estados de los objetos. Los atributos de clase se utilizan para que todos los objetos compartan por ejemplo, las mismas configuraciones.\n",
        "\n",
        "4. La **herencia** es la transferencia de atributos de una clase a otra clase.\n",
        "\n",
        "5. Un **método** es una función contenida dentro de un objeto.\n",
        "\n",
        "6. Un **objeto** es una instancia única de una estructura definida por su clase. Posee de atributos variables de clase, de instancia y métodos.\n",
        "\n",
        "7. El **polimorfismo** nos permite utilizar una misma función para distintos tipos de datos o clases.\n",
        "\n",
        "8. La **delegación** es el concepto con el cual podemos delegar tareas de una clase sobre algún método de otra clase."
      ],
      "metadata": {
        "id": "PRZv5eB8peaW"
      }
    },
    {
      "cell_type": "markdown",
      "source": [
        "## Primer clase"
      ],
      "metadata": {
        "id": "aKIp5k3zrXOJ"
      }
    },
    {
      "cell_type": "markdown",
      "source": [
        "Podemos pensar a una clase como un molde, el cual usamos para generar objetos o instancias que tienen ciertos atributos o métodos (funciones) que deseamos mantener.\n",
        "\n",
        "Aquellos atributos y métodos que queremos que los objetos conserven son definidos como parte del constructor. El constructor en Python es el método reservado __init__(). Este método se llama cuando se instancia la clase y en ese momento se inicializan los atributos de la clase, para lo cual podemos pasar parámetros.\n",
        "\n",
        "Además, vamos a emplear el término reservado (por convención) *self* para indicar aquellos atributos y métodos que van a ser propios de la instancia.\n",
        "\n",
        "Las clases definen los atributos y métodos comunes a un tipo de objeto. Se crean con la palabra `class`:"
      ],
      "metadata": {
        "id": "gIA3i5qKrZtw"
      }
    },
    {
      "cell_type": "code",
      "source": [
        "class Persona():\n",
        "    variable_de_clase = \"homo-sapiens\"\n",
        "    def __init__(self, nombre, apellido, edad=0, contacto=None):\n",
        "        # Este método puede tomar parámetros que asignamos a los atributos, que luego podemos acceder\n",
        "        self.edad = edad # este es un atributo, únicos para cada objeto. Atributos de instancia\n",
        "        self.contacto = contacto # este es otro atributo\n",
        "        self.nombre = nombre\n",
        "        self.apellido = apellido\n",
        "\n",
        "    def nombre_completo(self):\n",
        "        # este método devuelve el nombre completo a partir del nombre y apellido de la instancia\n",
        "        nombre_completo = '{}, {}'.format(self.apellido, self.nombre)\n",
        "        return nombre_completo\n",
        "\n",
        "    def saludar(self):\n",
        "        print('Hola mi nombre es {} y tengo {} años.'.format(self.nombre, self.edad))\n",
        "\n",
        "    def test_clase(self):\n",
        "      Persona.variable_de_clase = \"Editada\"\n",
        "\n",
        "    def mostrar_variable(self):\n",
        "      print(Persona.variable_de_clase)"
      ],
      "metadata": {
        "id": "-mWIAsc7rpCD"
      },
      "execution_count": null,
      "outputs": []
    },
    {
      "cell_type": "markdown",
      "source": [
        "Luego hacemos objetos instanciando la clase:"
      ],
      "metadata": {
        "id": "JRFLaGMUhmDC"
      }
    },
    {
      "cell_type": "code",
      "source": [
        "instancia_ejemplo = Persona('Juan','Perez', 24, 'jp@rip.com')\n",
        "instancia_ejemplo.saludar()"
      ],
      "metadata": {
        "id": "FqfgDCUSsZC0",
        "colab": {
          "base_uri": "https://localhost:8080/"
        },
        "outputId": "248a0e71-1268-44ca-b5ae-9045beee4bea"
      },
      "execution_count": null,
      "outputs": [
        {
          "output_type": "stream",
          "name": "stdout",
          "text": [
            "Hola mi nombre es Juan y tengo 24 años.\n"
          ]
        }
      ]
    },
    {
      "cell_type": "code",
      "source": [
        "instancia_ejemplo.mostrar_variable()"
      ],
      "metadata": {
        "colab": {
          "base_uri": "https://localhost:8080/"
        },
        "id": "Tyvmkp2_bPjd",
        "outputId": "4d3acc45-8d12-4e28-ca3d-eb77b0e5b4a2"
      },
      "execution_count": null,
      "outputs": [
        {
          "output_type": "stream",
          "name": "stdout",
          "text": [
            "Editada\n"
          ]
        }
      ]
    },
    {
      "cell_type": "code",
      "source": [
        "instancia_ejemplo2 = Persona('Lucas','Perez', 24, 'jp@rip.com')\n",
        "instancia_ejemplo2.saludar()"
      ],
      "metadata": {
        "colab": {
          "base_uri": "https://localhost:8080/"
        },
        "id": "uik-vJi8Zj_D",
        "outputId": "09fa7c15-d9a9-4883-a978-55f1715ea260"
      },
      "execution_count": null,
      "outputs": [
        {
          "output_type": "stream",
          "name": "stdout",
          "text": [
            "Hola mi nombre es Lucas y tengo 24 años.\n"
          ]
        }
      ]
    },
    {
      "cell_type": "code",
      "source": [
        "print(type(instancia_ejemplo))"
      ],
      "metadata": {
        "id": "Kv6mDU-5skDF",
        "colab": {
          "base_uri": "https://localhost:8080/"
        },
        "outputId": "c9cce409-a837-47c3-e2df-5a3c520464d5"
      },
      "execution_count": null,
      "outputs": [
        {
          "output_type": "stream",
          "name": "stdout",
          "text": [
            "<class '__main__.Persona'>\n"
          ]
        }
      ]
    },
    {
      "cell_type": "code",
      "source": [
        "instancia_ejemplo.apellido  # Acceder a sus atributos internos"
      ],
      "metadata": {
        "id": "zJ185-8Fswhe",
        "colab": {
          "base_uri": "https://localhost:8080/",
          "height": 35
        },
        "outputId": "dc800fc0-2a67-421c-ebb6-738c58e04328"
      },
      "execution_count": null,
      "outputs": [
        {
          "output_type": "execute_result",
          "data": {
            "text/plain": [
              "'Perez'"
            ],
            "application/vnd.google.colaboratory.intrinsic+json": {
              "type": "string"
            }
          },
          "metadata": {},
          "execution_count": 5
        }
      ]
    },
    {
      "cell_type": "code",
      "source": [
        "print(instancia_ejemplo2)"
      ],
      "metadata": {
        "id": "_knWMRXHt__A",
        "colab": {
          "base_uri": "https://localhost:8080/"
        },
        "outputId": "0c75723c-702f-47de-c5aa-43efc76ec04a"
      },
      "execution_count": null,
      "outputs": [
        {
          "output_type": "stream",
          "name": "stdout",
          "text": [
            "<__main__.Persona object at 0x7ac6993cb8b0>\n"
          ]
        }
      ]
    },
    {
      "cell_type": "markdown",
      "source": [
        "En Python existen los llamados métodos mágicos (magic methods) o dunder (Double Underscores). Estos métodos se caracterizan, justamente, por comenzar y terminar con \"`__`\" (doble guión bajo). Uno de los más comunes es el que permite darle estilo a la función print. Para que nuestro objeto entonces tenga un \"print lindo\" tenemos que definir una función \"`__str__`\" que sólo toma \"self\" como parámetro y que retorne un string. Eso que retorna es el string que queremos que muestra cuando hagamos \"print\" del objeto."
      ],
      "metadata": {
        "id": "vlj_rV-GtFxR"
      }
    },
    {
      "cell_type": "code",
      "source": [
        "class Persona():\n",
        "    def __init__(self, nombre, apellido, edad, contacto=None):\n",
        "        # Este método puede tomar parámetros que asignamos a los atributos, que luego podemos acceder\n",
        "        self.edad = edad # este es un atributo\n",
        "        self.contacto = contacto # este es otro atributo\n",
        "        self.nombre = nombre\n",
        "        self.apellido = apellido\n",
        "\n",
        "    def nombre_completo(self):\n",
        "        # este método devuelve el nombre completo a partir del nombre y apellido de la instancia\n",
        "        nombre_completo = '{}, {}'.format(self.apellido, self.nombre)\n",
        "        return nombre_completo\n",
        "\n",
        "    def saludar(self):\n",
        "        print('Hola mi nombre es {} y tengo {} años.'.format(self.nombre, self.edad))\n",
        "\n",
        "    def __str__(self):\n",
        "        return '{}-{}'.format(self.nombre.title(), self.apellido.title())"
      ],
      "metadata": {
        "id": "yxoRDEnnuHq6"
      },
      "execution_count": null,
      "outputs": []
    },
    {
      "cell_type": "code",
      "source": [
        "instancia_ejemplo = Persona('Juan','Perez', 24, 'jp@rip.com')\n",
        "instancia_ejemplo.saludar()"
      ],
      "metadata": {
        "id": "NGzVj4uauhAM",
        "colab": {
          "base_uri": "https://localhost:8080/"
        },
        "outputId": "3222e7cc-1607-4ff4-e5e2-99d9fbe13695"
      },
      "execution_count": null,
      "outputs": [
        {
          "output_type": "stream",
          "name": "stdout",
          "text": [
            "Hola mi nombre es Juan y tengo 24 años.\n"
          ]
        }
      ]
    },
    {
      "cell_type": "code",
      "source": [
        "print(instancia_ejemplo)  # Ahora el print es diferente"
      ],
      "metadata": {
        "id": "80xSFbCMuhfq",
        "colab": {
          "base_uri": "https://localhost:8080/"
        },
        "outputId": "df92eecd-3206-42e6-d5d9-08cb32922fc4"
      },
      "execution_count": null,
      "outputs": [
        {
          "output_type": "stream",
          "name": "stdout",
          "text": [
            "Juan-Perez\n"
          ]
        }
      ]
    },
    {
      "cell_type": "markdown",
      "source": [
        "## Herencia"
      ],
      "metadata": {
        "id": "OIbtsLOtwXX6"
      }
    },
    {
      "cell_type": "markdown",
      "source": [
        "La herencia se emplea cuando queremos que una clase tome los atributos y características de otra clase.\n",
        "En este caso, la clase derivada (Alumno) **hereda** atributos y métodos de la clase base (Persona).\n",
        "Para acceder a los métodos de la clase previa vamos a emplear el método reservado **super()**. Con este método podemos invocar el constructor y así acceder a los atributos de esa clase.\n",
        "\n",
        "La herencia permite crear clases más especializadas a partir de clases existentes."
      ],
      "metadata": {
        "id": "2E0VZnU8wYdw"
      }
    },
    {
      "cell_type": "code",
      "source": [
        "class Alumno(Persona):\n",
        "    def __init__(self, *args):\n",
        "        \"\"\"\n",
        "        Alumno pertence a un Curso (una instancia de la clase Curso) y, además, tiene otros atributos que pasaremos\n",
        "        a la clase previa\n",
        "        \"\"\"\n",
        "        self.conocimientos = [] # atributo nuevo, para la clase Alumno\n",
        "        super().__init__(*args) # inicializamos la clase 'madre'. La llamamos usando super() y ejecutamos el constructor\n",
        "        # Nótese también que desempaquetamos args\n",
        "\n",
        "    def saludar(self): # Sobrecarga de métodos, ver abajo\n",
        "        super().saludar() # ejecutamos el método de Persona .saludar() y agregamos más cosas a este método\n",
        "        print('Además, soy alumno.')\n",
        "\n",
        "    def estudiar(self, dato): # También podemos definir nuevos métodos\n",
        "        self.conocimientos.append(dato)\n",
        "\n",
        "    def repasar(self):\n",
        "        for i in self.conocimientos:\n",
        "            print(\"En su momento estudié: {}\".format(i))"
      ],
      "metadata": {
        "id": "5wFmx1TbwgzF"
      },
      "execution_count": null,
      "outputs": []
    },
    {
      "cell_type": "code",
      "source": [
        "alumno_ejemplo = Alumno('Juan','Perez', 24, 'jp@rip.com')"
      ],
      "metadata": {
        "id": "NcaJN03J1MLq"
      },
      "execution_count": null,
      "outputs": []
    },
    {
      "cell_type": "code",
      "source": [
        "alumno_ejemplo.saludar()"
      ],
      "metadata": {
        "id": "Np0gXaBF1Rkd",
        "colab": {
          "base_uri": "https://localhost:8080/"
        },
        "outputId": "699391f6-2c57-46c4-8499-54e7de5841ef"
      },
      "execution_count": null,
      "outputs": [
        {
          "output_type": "stream",
          "name": "stdout",
          "text": [
            "Hola mi nombre es Juan y tengo 24 años.\n",
            "Además, soy alumno.\n"
          ]
        }
      ]
    },
    {
      "cell_type": "code",
      "source": [
        "alumno_ejemplo.estudiar(\"Álgebra\")\n",
        "alumno_ejemplo.estudiar(\"Química\")"
      ],
      "metadata": {
        "id": "s2CsRVyE1VP4"
      },
      "execution_count": null,
      "outputs": []
    },
    {
      "cell_type": "code",
      "source": [
        "alumno_ejemplo.repasar()"
      ],
      "metadata": {
        "id": "XBFuW01Q1fC6",
        "colab": {
          "base_uri": "https://localhost:8080/"
        },
        "outputId": "6507fbee-970e-4080-a598-e21fe4364075"
      },
      "execution_count": null,
      "outputs": [
        {
          "output_type": "stream",
          "name": "stdout",
          "text": [
            "En su momento estudié: Álgebra\n",
            "En su momento estudié: Química\n",
            "En su momento estudié: Álgebra\n",
            "En su momento estudié: Química\n"
          ]
        }
      ]
    },
    {
      "cell_type": "markdown",
      "source": [
        "## Protección de acceso"
      ],
      "metadata": {
        "id": "xJCq3mmT1rmd"
      }
    },
    {
      "cell_type": "markdown",
      "source": [
        "Podemos cambiar el acceso (publico, no publico, protejido) de los métodos y variables.\n",
        "\n",
        "Dos formas distintas de encapsulamiento:\n",
        "\n",
        "- `_nopublico`\n",
        "- `__protegido`\n",
        "\n",
        "Los atributos o método no públicos pueden ser accedidos desde el objeto y llevan el prefijo \"\\_\". La utilidad de este es indicarle al usuario que es una variable o método privado, de uso interno en el código de la clase y que no está pensando que sea usado desde afuera, por el usuario.\n",
        "\n",
        "Por otra parte, en el caso de usar como prefijo \"\\_\\_\" (doble \"\\_\") directamente vamos a ocultar la variable o método de la lista de sugerencias para el usuario y tampoco va a poder invocarlo desde el objeto. Por este motivo, decimos que el atributo o método está protegido."
      ],
      "metadata": {
        "id": "e44lCLQd1ub9"
      }
    },
    {
      "cell_type": "markdown",
      "source": [
        "**Encapsulamiento**\n",
        "\n",
        "Se utilizan atributos privados `__` para ocultar datos sensibles y exponerlos de forma controlada.\n",
        "El encapsulamiento es el principio de ocultar los detalles de implementación de una clase y exponer solo una interfaz documentada a los usuarios. Esto se logra utilizando atributos y métodos privados en Python."
      ],
      "metadata": {
        "id": "h1TCaRFcid2R"
      }
    },
    {
      "cell_type": "code",
      "source": [
        "class CuentaBancaria:\n",
        "    def __init__(self, saldo=0):\n",
        "        self.moneda = \"Peso\"\n",
        "        self.__saldo = saldo\n",
        "\n",
        "    def depositar(self, monto):\n",
        "        # Método público para modificar el atributo privado\n",
        "        self.__saldo += monto"
      ],
      "metadata": {
        "id": "osXcwn5ziS2h"
      },
      "execution_count": null,
      "outputs": []
    },
    {
      "cell_type": "markdown",
      "source": [
        "Los usuarios no pueden modificar `__saldo` directamente, solo a través del método depositar()."
      ],
      "metadata": {
        "id": "dhMtVE_filNK"
      }
    },
    {
      "cell_type": "code",
      "source": [
        "cuenta = CuentaBancaria(1000)"
      ],
      "metadata": {
        "id": "lBMNr9o7jrCu"
      },
      "execution_count": null,
      "outputs": []
    },
    {
      "cell_type": "code",
      "source": [
        "cuenta.depositar(20)"
      ],
      "metadata": {
        "id": "ARK-FLv1lK7H"
      },
      "execution_count": null,
      "outputs": []
    },
    {
      "cell_type": "code",
      "source": [
        "cuenta.moneda   # Accedo normalmente"
      ],
      "metadata": {
        "colab": {
          "base_uri": "https://localhost:8080/",
          "height": 35
        },
        "id": "io2fO_wEj5A4",
        "outputId": "9611c06e-8fb0-45d3-f413-f590074799f9"
      },
      "execution_count": null,
      "outputs": [
        {
          "output_type": "execute_result",
          "data": {
            "text/plain": [
              "'Peso'"
            ],
            "application/vnd.google.colaboratory.intrinsic+json": {
              "type": "string"
            }
          },
          "metadata": {},
          "execution_count": 60
        }
      ]
    },
    {
      "cell_type": "code",
      "source": [
        "cuenta.__saldo    # Acá no"
      ],
      "metadata": {
        "colab": {
          "base_uri": "https://localhost:8080/",
          "height": 176
        },
        "id": "wVnQyMpXjvxE",
        "outputId": "41e9eb1b-bb62-4b42-8e62-1b66220960cc"
      },
      "execution_count": null,
      "outputs": [
        {
          "output_type": "error",
          "ename": "AttributeError",
          "evalue": "ignored",
          "traceback": [
            "\u001b[0;31m---------------------------------------------------------------------------\u001b[0m",
            "\u001b[0;31mAttributeError\u001b[0m                            Traceback (most recent call last)",
            "\u001b[0;32m<ipython-input-61-9aca42cc3684>\u001b[0m in \u001b[0;36m<cell line: 1>\u001b[0;34m()\u001b[0m\n\u001b[0;32m----> 1\u001b[0;31m \u001b[0mcuenta\u001b[0m\u001b[0;34m.\u001b[0m\u001b[0m__saldo\u001b[0m    \u001b[0;31m# Acá no\u001b[0m\u001b[0;34m\u001b[0m\u001b[0;34m\u001b[0m\u001b[0m\n\u001b[0m",
            "\u001b[0;31mAttributeError\u001b[0m: 'CuentaBancaria' object has no attribute '__saldo'"
          ]
        }
      ]
    },
    {
      "cell_type": "markdown",
      "source": [
        "En realidad, la filosofía de Python para la protección de atributos no es estricta.\n",
        "\n",
        "El nombre del atributo se cambia para dificultar el acceso, pero el atributo en si todavía está accesible usando la forma \"`_nombreClase__nombreAtributo`\"."
      ],
      "metadata": {
        "id": "z8N3VXMFkmYc"
      }
    },
    {
      "cell_type": "code",
      "source": [
        "cuenta._CuentaBancaria__saldo   # Pero ya es un detalle de color simplemente"
      ],
      "metadata": {
        "colab": {
          "base_uri": "https://localhost:8080/"
        },
        "id": "Oz6_J1DPkwDp",
        "outputId": "50e76228-4fa0-4043-af4e-a712bc0b8579"
      },
      "execution_count": null,
      "outputs": [
        {
          "output_type": "execute_result",
          "data": {
            "text/plain": [
              "1020"
            ]
          },
          "metadata": {},
          "execution_count": 62
        }
      ]
    },
    {
      "cell_type": "markdown",
      "source": [
        "## Polimorfismo"
      ],
      "metadata": {
        "id": "wt5cJMkFi9Jr"
      }
    },
    {
      "cell_type": "markdown",
      "source": [
        "El polimorfismo permite definir la misma interfaz en distintas clases:"
      ],
      "metadata": {
        "id": "O5rLtQFTi_rl"
      }
    },
    {
      "cell_type": "code",
      "source": [
        "class Perro:\n",
        "    def hacer_sonido(self):\n",
        "        print(\"Guau\")\n",
        "\n",
        "class Gato:\n",
        "    def hacer_sonido(self):\n",
        "        print(\"Miau\")"
      ],
      "metadata": {
        "id": "7cg6lQD1jBir"
      },
      "execution_count": null,
      "outputs": []
    },
    {
      "cell_type": "code",
      "source": [
        "perro = Perro()\n",
        "gato = Gato()\n",
        "\n",
        "for animal in (perro, gato):\n",
        "    animal.hacer_sonido()"
      ],
      "metadata": {
        "colab": {
          "base_uri": "https://localhost:8080/"
        },
        "id": "AGYCJFgVjEd5",
        "outputId": "f2e3e43b-dd40-4d8f-86e5-2fef767da045"
      },
      "execution_count": null,
      "outputs": [
        {
          "output_type": "stream",
          "name": "stdout",
          "text": [
            "Guau\n",
            "Miau\n"
          ]
        }
      ]
    },
    {
      "cell_type": "markdown",
      "source": [
        "Aunque cada clase implementa `hacer_sonido()` diferente, podemos tratarlos polimórficamente."
      ],
      "metadata": {
        "id": "bv0ic8aQjHG9"
      }
    },
    {
      "cell_type": "markdown",
      "source": [
        "## Duck typing y monkey patching"
      ],
      "metadata": {
        "id": "Q70ltSig18re"
      }
    },
    {
      "cell_type": "markdown",
      "source": [
        "Dos características de la programación orientada a objetos con Python son el *duck tiping* y el *monkey patching*. Este tipo de flexibilidad es el que le permitió a Python crecer tanto en su adopción porque reducen la cantidad de palabras que es necesario escribir para desarrollar código, lo cual ahorra tiempo y también disminuyen la complejidad."
      ],
      "metadata": {
        "id": "xuDbIYeN2CKu"
      }
    },
    {
      "cell_type": "markdown",
      "source": [
        "### Duck typing"
      ],
      "metadata": {
        "id": "9XYlphLD2E9D"
      }
    },
    {
      "cell_type": "code",
      "source": [
        "class Serpiente():\n",
        "\n",
        "    def __init__(self, nombre, largo):\n",
        "        self.nombre = nombre\n",
        "        self.largo = largo\n",
        "\n",
        "    def __len__(self):\n",
        "        return self.largo\n",
        "\n",
        "    def saludar(self):\n",
        "        return \"ssssh\"\n",
        "\n",
        "mi_yarara = Serpiente('Yarará', 10)"
      ],
      "metadata": {
        "id": "Xzuli3i92G3D"
      },
      "execution_count": null,
      "outputs": []
    },
    {
      "cell_type": "markdown",
      "source": [
        "<i> “If it walks like a duck, and it quacks like a duck, then it must be a duck.”</i>\n",
        "\n",
        "Duck typing significa que a diferencia de otros lenguajes, las funciones especiales no están definidas para una lista específica de clases y tipos, si no que se pueden usar para cualquier objeto que las implemente. Esto no es así para la mayoría de los lenguajes.   "
      ],
      "metadata": {
        "id": "pHwGVSll3jH6"
      }
    },
    {
      "cell_type": "code",
      "source": [
        "mi_str = \"Hello World\"\n",
        "mi_list = [34, 54, 65, 78]\n",
        "mi_dict = {\"a\": 123, \"b\": 456, \"c\": 789}"
      ],
      "metadata": {
        "id": "DHfTWz_j3p_o"
      },
      "execution_count": null,
      "outputs": []
    },
    {
      "cell_type": "code",
      "source": [
        "print(len(mi_str))\n",
        "print(len(mi_list))\n",
        "print(len(mi_dict))\n",
        "print(len(mi_yarara))   # Nuestro objeto también sabe como \"decirle\" su tamaño a len()"
      ],
      "metadata": {
        "id": "mHAfW3DR3sBU",
        "colab": {
          "base_uri": "https://localhost:8080/"
        },
        "outputId": "ce99d1d6-748a-4468-c7f2-fe780f7ef5be"
      },
      "execution_count": null,
      "outputs": [
        {
          "output_type": "stream",
          "name": "stdout",
          "text": [
            "11\n",
            "4\n",
            "3\n",
            "10\n"
          ]
        }
      ]
    },
    {
      "cell_type": "markdown",
      "source": [
        "### Monkey Patching"
      ],
      "metadata": {
        "id": "x2YYgtTe38KS"
      }
    },
    {
      "cell_type": "markdown",
      "source": [
        "Guerrilla, gorilla, ¿monkey?... Este término viene de uno anterior, \"guerrilla patching\", que hace referencia a emparchar el código rápido y cuando es necesario.\n",
        "\n",
        "Se refiere a la posibilidad en Python de sobreescribir clases después de haberlas instanciado y por qué no también la funcionalidad de los módulos."
      ],
      "metadata": {
        "id": "I-gnE4KD4FRl"
      }
    },
    {
      "cell_type": "code",
      "source": [
        "mi_yarara.saludar() # Método definido en la clase"
      ],
      "metadata": {
        "id": "CtzcL_ew4WxC",
        "colab": {
          "base_uri": "https://localhost:8080/",
          "height": 35
        },
        "outputId": "2dd4b838-ea3a-4960-fa97-6d4eb2a60a4b"
      },
      "execution_count": null,
      "outputs": [
        {
          "output_type": "execute_result",
          "data": {
            "text/plain": [
              "'ssssh'"
            ],
            "application/vnd.google.colaboratory.intrinsic+json": {
              "type": "string"
            }
          },
          "metadata": {},
          "execution_count": 68
        }
      ]
    },
    {
      "cell_type": "code",
      "source": [
        "def saludo_peligroso():\n",
        "    # Nueva función, externa a la clase directamente\n",
        "    return \"SSSSSSSSSHHHH\""
      ],
      "metadata": {
        "id": "c3Q5fn104Zwu"
      },
      "execution_count": null,
      "outputs": []
    },
    {
      "cell_type": "code",
      "source": [
        "mi_yarara.saludar = saludo_peligroso    # Sobre escribo sobre la instancia. Edito esa, la clase puede seguir como estaba."
      ],
      "metadata": {
        "id": "8Ob_QC1P4f4k"
      },
      "execution_count": null,
      "outputs": []
    },
    {
      "cell_type": "code",
      "source": [
        "mi_yarara.saludar()"
      ],
      "metadata": {
        "id": "zg_4wUkh4kRU",
        "colab": {
          "base_uri": "https://localhost:8080/",
          "height": 35
        },
        "outputId": "1ce0aed6-573c-4cfb-e060-83794c3c206a"
      },
      "execution_count": null,
      "outputs": [
        {
          "output_type": "execute_result",
          "data": {
            "text/plain": [
              "'SSSSSSSSSHHHH'"
            ],
            "application/vnd.google.colaboratory.intrinsic+json": {
              "type": "string"
            }
          },
          "metadata": {},
          "execution_count": 71
        }
      ]
    },
    {
      "cell_type": "markdown",
      "source": [
        "Esto es especialmente útil cuando queremos sobre-escribir ligeramente módulos hechos por terceros (o por nosotros mismos en otro momento)"
      ],
      "metadata": {
        "id": "QaFmmxqM48_r"
      }
    },
    {
      "cell_type": "markdown",
      "source": [
        "# Referencias y Recursos"
      ],
      "metadata": {
        "id": "HpHPWJmvStcO"
      }
    },
    {
      "cell_type": "markdown",
      "source": [],
      "metadata": {
        "id": "fpQ0S7Yyt_Uw"
      }
    },
    {
      "cell_type": "markdown",
      "source": [
        "\n",
        "\n",
        "*   https://docs.python.org/es/3/tutorial/index.html\n",
        "*   https://www.w3schools.com/python/default.asp\n",
        "*   https://github.com/institutohumai/cursos-python#intro-a-python\n",
        "\n"
      ],
      "metadata": {
        "id": "x5EHHw6uSwm2"
      }
    },
    {
      "cell_type": "markdown",
      "source": [
        "Tips:\n",
        "\n",
        "*   Dentro del notebook, con **Ctrl + Espacio** se despliega un menú de ayuda con los métodos y funciones del objeto o función que se tiene como foco.\n",
        "\n",
        "\n"
      ],
      "metadata": {
        "id": "S-dda9h5THh8"
      }
    }
  ]
}